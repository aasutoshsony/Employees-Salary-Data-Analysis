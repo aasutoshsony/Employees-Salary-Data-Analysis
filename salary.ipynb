{
 "cells": [
  {
   "cell_type": "code",
   "execution_count": null,
   "id": "0bf9d361",
   "metadata": {},
   "outputs": [],
   "source": [
    "# Project Description:\n",
    "\n",
    "# Title: Exploratory Data Analysis of Professor Salaries Dataset\n",
    "\n",
    "# This project involves analyzing a dataset containing information about professors salaries. \n",
    "# Attributes include rank, discipline, years since PhD completion, years of service, sex, and salary. \n",
    "# The goal is to explore factors influencing salaries and identify trends. \n",
    "# Steps include data cleaning, exploration, and analysis of factors like rank, discipline, years since PhD completion, service, and gender. \n",
    "# Insights gained can inform salary policies and recruitment strategies for academic institutions."
   ]
  },
  {
   "cell_type": "code",
   "execution_count": 4,
   "id": "78ce560a",
   "metadata": {},
   "outputs": [],
   "source": [
    "import pandas as pd\n",
    "df = pd.read_csv('Salaries.csv')   "
   ]
  },
  {
   "cell_type": "code",
   "execution_count": 5,
   "id": "b70200ce",
   "metadata": {
    "scrolled": true
   },
   "outputs": [
    {
     "name": "stdout",
     "output_type": "stream",
     "text": [
      "    RANK DISCIPLINE   PHd  SERVICE     SEX    SALARY\n",
      "45  Prof          B  25.0       25  Female  140096.0\n"
     ]
    }
   ],
   "source": [
    "print(df.iloc[[45]]) # to print particular ROW only "
   ]
  },
  {
   "cell_type": "code",
   "execution_count": 6,
   "id": "faa71137",
   "metadata": {},
   "outputs": [
    {
     "name": "stdout",
     "output_type": "stream",
     "text": [
      "         RANK DISCIPLINE   PHd  SERVICE     SEX    SALARY\n",
      "0        Prof          B  56.0       49    Male  186960.0\n",
      "1        Prof          A  12.0        6    Male   93000.0\n",
      "2        Prof          A  23.0       20    Male  110515.0\n",
      "3        Prof          A  40.0       31    Male  131205.0\n",
      "4        Prof          B  20.0       18    Male  104800.0\n",
      "5        Prof          A  20.0       20    Male  122400.0\n",
      "6   AssocProf          A  20.0       17    Male   81285.0\n",
      "7        Prof          A  18.0       18    Male       NaN\n",
      "8        Prof          A  29.0       19    Male   94350.0\n",
      "9        Prof          A  51.0       51    Male   57800.0\n",
      "10       Prof          B  39.0       33    Male  128250.0\n",
      "11       Prof          B  23.0       23    Male  134778.0\n",
      "12   AsstProf          B   1.0        0    Male   88000.0\n",
      "13       Prof          B   NaN       33    Male  162200.0\n",
      "14       Prof          B  25.0       19    Male  153750.0\n",
      "15       Prof          B  17.0        3    Male  150480.0\n",
      "16   AsstProf          B   8.0        3    Male   75044.0\n",
      "17   AsstProf          B   4.0        0    Male   92000.0\n",
      "18       Prof          A  19.0        7    Male  107300.0\n",
      "19       Prof          A  29.0       27    Male  150500.0\n",
      "20   AsstProf          B   4.0        4    Male   92000.0\n",
      "21       Prof          A  33.0       30    Male  103106.0\n",
      "22   AsstProf          A   4.0        2    Male   73000.0\n",
      "23   AsstProf          A   2.0        0    Male   85000.0\n",
      "24       Prof          A  30.0       23    Male   91100.0\n",
      "25       Prof          B  35.0       31    Male   99418.0\n",
      "26       Prof          A  38.0       19    Male  148750.0\n",
      "27       Prof          A  45.0       43    Male  155865.0\n",
      "28   AsstProf          B   7.0        2    Male       NaN\n",
      "29       Prof          B  21.0       20    Male  123683.0\n",
      "30  AssocProf          B   9.0        7    Male  107008.0\n",
      "31       Prof          B  22.0       21    Male  155750.0\n",
      "32       Prof          A  27.0       19    Male  103275.0\n",
      "33       Prof          B  18.0       18    Male  120000.0\n",
      "34  AssocProf          B   NaN        8    Male  119800.0\n",
      "35       Prof          B  28.0       23    Male  126933.0\n",
      "36       Prof          B  45.0       45    Male  146856.0\n",
      "37       Prof          A  20.0        8    Male  102000.0\n",
      "38   AsstProf          B   4.0        3    Male   91000.0\n",
      "39       Prof          B  18.0       18  Female  129000.0\n",
      "40       Prof          A  39.0       36  Female  137000.0\n",
      "41  AssocProf          A  13.0        8  Female   74830.0\n",
      "42   AsstProf          B   4.0        2  Female   80225.0\n",
      "43   AsstProf          B   5.0        0  Female   77000.0\n",
      "44       Prof          B  23.0       19  Female  151768.0\n",
      "45       Prof          B  25.0       25  Female  140096.0\n",
      "46   AsstProf          B  11.0        3  Female   74692.0\n",
      "47  AssocProf          B  11.0       11  Female  103613.0\n",
      "48       Prof          B  17.0       17  Female  111512.0\n",
      "49       Prof          B  17.0       18  Female  122960.0\n",
      "50   AsstProf          B  10.0        5  Female   97032.0\n",
      "51       Prof          B  20.0       14  Female  127512.0\n",
      "52       Prof          A  12.0        0  Female  105000.0\n",
      "53   AsstProf          A   5.0        3  Female   73500.0\n",
      "54  AssocProf          A  25.0       22  Female   62884.0\n",
      "55   AsstProf          A   2.0        0  Female   72500.0\n",
      "56  AssocProf          A  10.0        8  Female   77500.0\n",
      "57   AsstProf          A   3.0        1  Female   72500.0\n",
      "58       Prof          B  36.0       26  Female  144651.0\n",
      "59  AssocProf          B  12.0       10  Female  103994.0\n",
      "60   AsstProf          B   3.0        3  Female   92000.0\n",
      "61  AssocProf          B  13.0       10  Female  103750.0\n",
      "62  AssocProf          B  14.0        7  Female  109650.0\n",
      "63       Prof          A  29.0       27  Female   91000.0\n",
      "64  AssocProf          A  26.0       24  Female   73300.0\n",
      "65       Prof          A  36.0       19  Female  117555.0\n",
      "66   AsstProf          A   7.0        6  Female   63100.0\n",
      "67       Prof          A  17.0       11  Female   90450.0\n",
      "68   AsstProf          A   4.0        2  Female   77500.0\n",
      "69       Prof          A  28.0        7  Female  116450.0\n",
      "70   AsstProf          A   8.0        3  Female   78500.0\n",
      "71  AssocProf          B  12.0        9  Female   71065.0\n",
      "72       Prof          B  24.0       15  Female  161101.0\n",
      "73       Prof          B  18.0       10  Female  105450.0\n",
      "74  AssocProf          B  19.0        6  Female  104542.0\n",
      "75       Prof          B  17.0       17  Female  124312.0\n",
      "76       Prof          A  28.0       14  Female  109954.0\n",
      "77       Prof          A  23.0       15  Female  109646.0\n"
     ]
    }
   ],
   "source": [
    "print(df.to_string()) #use to_string() to print the entire DataFrame."
   ]
  },
  {
   "cell_type": "code",
   "execution_count": 7,
   "id": "74ef4959",
   "metadata": {},
   "outputs": [
    {
     "name": "stdout",
     "output_type": "stream",
     "text": [
      "         RANK DISCIPLINE   PHd  SERVICE     SEX    SALARY\n",
      "0        Prof          B  56.0       49    Male  186960.0\n",
      "1        Prof          A  12.0        6    Male   93000.0\n",
      "2        Prof          A  23.0       20    Male  110515.0\n",
      "3        Prof          A  40.0       31    Male  131205.0\n",
      "4        Prof          B  20.0       18    Male  104800.0\n",
      "..        ...        ...   ...      ...     ...       ...\n",
      "73       Prof          B  18.0       10  Female  105450.0\n",
      "74  AssocProf          B  19.0        6  Female  104542.0\n",
      "75       Prof          B  17.0       17  Female  124312.0\n",
      "76       Prof          A  28.0       14  Female  109954.0\n",
      "77       Prof          A  23.0       15  Female  109646.0\n",
      "\n",
      "[78 rows x 6 columns]\n"
     ]
    }
   ],
   "source": [
    "import pandas as pd\n",
    "df = pd.read_csv('Salaries.csv') \n",
    "print(df) #If you have a large DataFrame with many rows, Pandas will only return the first 5 rows, and the last 5 rows:"
   ]
  },
  {
   "cell_type": "code",
   "execution_count": 8,
   "id": "27ff1c63",
   "metadata": {},
   "outputs": [
    {
     "name": "stdout",
     "output_type": "stream",
     "text": [
      "60\n"
     ]
    }
   ],
   "source": [
    "#The number of rows returned is defined in Pandas option settings. (by default it is 60)\n",
    "#To check our system's maximum rows with the pd.options.display.max_rows statement.\n",
    "\n",
    "import pandas as pd\n",
    "print(pd.options.display.max_rows) "
   ]
  },
  {
   "cell_type": "code",
   "execution_count": 9,
   "id": "eebb747d",
   "metadata": {},
   "outputs": [
    {
     "name": "stdout",
     "output_type": "stream",
     "text": [
      "         RANK DISCIPLINE   PHd  SERVICE     SEX    SALARY\n",
      "0        Prof          B  56.0       49    Male  186960.0\n",
      "1        Prof          A  12.0        6    Male   93000.0\n",
      "2        Prof          A  23.0       20    Male  110515.0\n",
      "3        Prof          A  40.0       31    Male  131205.0\n",
      "4        Prof          B  20.0       18    Male  104800.0\n",
      "..        ...        ...   ...      ...     ...       ...\n",
      "73       Prof          B  18.0       10  Female  105450.0\n",
      "74  AssocProf          B  19.0        6  Female  104542.0\n",
      "75       Prof          B  17.0       17  Female  124312.0\n",
      "76       Prof          A  28.0       14  Female  109954.0\n",
      "77       Prof          A  23.0       15  Female  109646.0\n",
      "\n",
      "[78 rows x 6 columns]\n"
     ]
    }
   ],
   "source": [
    "#To increase/change the maximum number of rows to display the entire DataFrame:\n",
    "\n",
    "import pandas as pd\n",
    "pd.options.display.max_rows = 50\n",
    "df = pd.read_csv('Salaries.csv')\n",
    "\n",
    "print(df) "
   ]
  },
  {
   "cell_type": "code",
   "execution_count": 10,
   "id": "98f3bca8",
   "metadata": {},
   "outputs": [
    {
     "name": "stdout",
     "output_type": "stream",
     "text": [
      "50\n"
     ]
    }
   ],
   "source": [
    "import pandas as pd\n",
    "print(pd.options.display.max_rows) "
   ]
  },
  {
   "cell_type": "code",
   "execution_count": 11,
   "id": "2d9b14cc",
   "metadata": {},
   "outputs": [
    {
     "data": {
      "text/plain": [
       "(78, 6)"
      ]
     },
     "execution_count": 11,
     "metadata": {},
     "output_type": "execute_result"
    }
   ],
   "source": [
    "df.shape #To show rows, cols"
   ]
  },
  {
   "cell_type": "code",
   "execution_count": 12,
   "id": "1b23d7e1",
   "metadata": {},
   "outputs": [
    {
     "data": {
      "text/plain": [
       "2"
      ]
     },
     "execution_count": 12,
     "metadata": {},
     "output_type": "execute_result"
    }
   ],
   "source": [
    "df.ndim #To show dimension (2D or 3D or ... ) here row and column i.e. 2D"
   ]
  },
  {
   "cell_type": "code",
   "execution_count": 13,
   "id": "5dd93d20",
   "metadata": {},
   "outputs": [
    {
     "data": {
      "text/plain": [
       "Index(['RANK', 'DISCIPLINE', 'PHd', 'SERVICE', 'SEX', 'SALARY'], dtype='object')"
      ]
     },
     "execution_count": 13,
     "metadata": {},
     "output_type": "execute_result"
    }
   ],
   "source": [
    "df.columns #To show all the columns names."
   ]
  },
  {
   "cell_type": "code",
   "execution_count": 14,
   "id": "15eda601",
   "metadata": {
    "scrolled": false
   },
   "outputs": [
    {
     "data": {
      "text/plain": [
       "['RANK', 'DISCIPLINE', 'PHd', 'SERVICE', 'SEX', 'SALARY']"
      ]
     },
     "execution_count": 14,
     "metadata": {},
     "output_type": "execute_result"
    }
   ],
   "source": [
    "df.columns.tolist() #To make a list of all the columns names."
   ]
  },
  {
   "cell_type": "code",
   "execution_count": 15,
   "id": "912d5366",
   "metadata": {},
   "outputs": [
    {
     "data": {
      "text/html": [
       "<div>\n",
       "<style scoped>\n",
       "    .dataframe tbody tr th:only-of-type {\n",
       "        vertical-align: middle;\n",
       "    }\n",
       "\n",
       "    .dataframe tbody tr th {\n",
       "        vertical-align: top;\n",
       "    }\n",
       "\n",
       "    .dataframe thead th {\n",
       "        text-align: right;\n",
       "    }\n",
       "</style>\n",
       "<table border=\"1\" class=\"dataframe\">\n",
       "  <thead>\n",
       "    <tr style=\"text-align: right;\">\n",
       "      <th></th>\n",
       "      <th>RANK</th>\n",
       "      <th>DISCIPLINE</th>\n",
       "      <th>PHd</th>\n",
       "      <th>SERVICE</th>\n",
       "      <th>SEX</th>\n",
       "      <th>SALARY</th>\n",
       "    </tr>\n",
       "  </thead>\n",
       "  <tbody>\n",
       "    <tr>\n",
       "      <th>0</th>\n",
       "      <td>Prof</td>\n",
       "      <td>B</td>\n",
       "      <td>56.0</td>\n",
       "      <td>49</td>\n",
       "      <td>Male</td>\n",
       "      <td>186960.0</td>\n",
       "    </tr>\n",
       "    <tr>\n",
       "      <th>1</th>\n",
       "      <td>Prof</td>\n",
       "      <td>A</td>\n",
       "      <td>12.0</td>\n",
       "      <td>6</td>\n",
       "      <td>Male</td>\n",
       "      <td>93000.0</td>\n",
       "    </tr>\n",
       "    <tr>\n",
       "      <th>2</th>\n",
       "      <td>Prof</td>\n",
       "      <td>A</td>\n",
       "      <td>23.0</td>\n",
       "      <td>20</td>\n",
       "      <td>Male</td>\n",
       "      <td>110515.0</td>\n",
       "    </tr>\n",
       "    <tr>\n",
       "      <th>3</th>\n",
       "      <td>Prof</td>\n",
       "      <td>A</td>\n",
       "      <td>40.0</td>\n",
       "      <td>31</td>\n",
       "      <td>Male</td>\n",
       "      <td>131205.0</td>\n",
       "    </tr>\n",
       "    <tr>\n",
       "      <th>4</th>\n",
       "      <td>Prof</td>\n",
       "      <td>B</td>\n",
       "      <td>20.0</td>\n",
       "      <td>18</td>\n",
       "      <td>Male</td>\n",
       "      <td>104800.0</td>\n",
       "    </tr>\n",
       "  </tbody>\n",
       "</table>\n",
       "</div>"
      ],
      "text/plain": [
       "   RANK DISCIPLINE   PHd  SERVICE   SEX    SALARY\n",
       "0  Prof          B  56.0       49  Male  186960.0\n",
       "1  Prof          A  12.0        6  Male   93000.0\n",
       "2  Prof          A  23.0       20  Male  110515.0\n",
       "3  Prof          A  40.0       31  Male  131205.0\n",
       "4  Prof          B  20.0       18  Male  104800.0"
      ]
     },
     "execution_count": 15,
     "metadata": {},
     "output_type": "execute_result"
    }
   ],
   "source": [
    "df.head() #To show top 5 values/rows/tuples in table format."
   ]
  },
  {
   "cell_type": "code",
   "execution_count": 16,
   "id": "8ed7752e",
   "metadata": {},
   "outputs": [
    {
     "data": {
      "text/html": [
       "<div>\n",
       "<style scoped>\n",
       "    .dataframe tbody tr th:only-of-type {\n",
       "        vertical-align: middle;\n",
       "    }\n",
       "\n",
       "    .dataframe tbody tr th {\n",
       "        vertical-align: top;\n",
       "    }\n",
       "\n",
       "    .dataframe thead th {\n",
       "        text-align: right;\n",
       "    }\n",
       "</style>\n",
       "<table border=\"1\" class=\"dataframe\">\n",
       "  <thead>\n",
       "    <tr style=\"text-align: right;\">\n",
       "      <th></th>\n",
       "      <th>RANK</th>\n",
       "      <th>DISCIPLINE</th>\n",
       "      <th>PHd</th>\n",
       "      <th>SERVICE</th>\n",
       "      <th>SEX</th>\n",
       "      <th>SALARY</th>\n",
       "    </tr>\n",
       "  </thead>\n",
       "  <tbody>\n",
       "    <tr>\n",
       "      <th>0</th>\n",
       "      <td>Prof</td>\n",
       "      <td>B</td>\n",
       "      <td>56.0</td>\n",
       "      <td>49</td>\n",
       "      <td>Male</td>\n",
       "      <td>186960.0</td>\n",
       "    </tr>\n",
       "    <tr>\n",
       "      <th>1</th>\n",
       "      <td>Prof</td>\n",
       "      <td>A</td>\n",
       "      <td>12.0</td>\n",
       "      <td>6</td>\n",
       "      <td>Male</td>\n",
       "      <td>93000.0</td>\n",
       "    </tr>\n",
       "    <tr>\n",
       "      <th>2</th>\n",
       "      <td>Prof</td>\n",
       "      <td>A</td>\n",
       "      <td>23.0</td>\n",
       "      <td>20</td>\n",
       "      <td>Male</td>\n",
       "      <td>110515.0</td>\n",
       "    </tr>\n",
       "    <tr>\n",
       "      <th>3</th>\n",
       "      <td>Prof</td>\n",
       "      <td>A</td>\n",
       "      <td>40.0</td>\n",
       "      <td>31</td>\n",
       "      <td>Male</td>\n",
       "      <td>131205.0</td>\n",
       "    </tr>\n",
       "    <tr>\n",
       "      <th>4</th>\n",
       "      <td>Prof</td>\n",
       "      <td>B</td>\n",
       "      <td>20.0</td>\n",
       "      <td>18</td>\n",
       "      <td>Male</td>\n",
       "      <td>104800.0</td>\n",
       "    </tr>\n",
       "    <tr>\n",
       "      <th>5</th>\n",
       "      <td>Prof</td>\n",
       "      <td>A</td>\n",
       "      <td>20.0</td>\n",
       "      <td>20</td>\n",
       "      <td>Male</td>\n",
       "      <td>122400.0</td>\n",
       "    </tr>\n",
       "    <tr>\n",
       "      <th>6</th>\n",
       "      <td>AssocProf</td>\n",
       "      <td>A</td>\n",
       "      <td>20.0</td>\n",
       "      <td>17</td>\n",
       "      <td>Male</td>\n",
       "      <td>81285.0</td>\n",
       "    </tr>\n",
       "    <tr>\n",
       "      <th>7</th>\n",
       "      <td>Prof</td>\n",
       "      <td>A</td>\n",
       "      <td>18.0</td>\n",
       "      <td>18</td>\n",
       "      <td>Male</td>\n",
       "      <td>NaN</td>\n",
       "    </tr>\n",
       "    <tr>\n",
       "      <th>8</th>\n",
       "      <td>Prof</td>\n",
       "      <td>A</td>\n",
       "      <td>29.0</td>\n",
       "      <td>19</td>\n",
       "      <td>Male</td>\n",
       "      <td>94350.0</td>\n",
       "    </tr>\n",
       "    <tr>\n",
       "      <th>9</th>\n",
       "      <td>Prof</td>\n",
       "      <td>A</td>\n",
       "      <td>51.0</td>\n",
       "      <td>51</td>\n",
       "      <td>Male</td>\n",
       "      <td>57800.0</td>\n",
       "    </tr>\n",
       "  </tbody>\n",
       "</table>\n",
       "</div>"
      ],
      "text/plain": [
       "        RANK DISCIPLINE   PHd  SERVICE   SEX    SALARY\n",
       "0       Prof          B  56.0       49  Male  186960.0\n",
       "1       Prof          A  12.0        6  Male   93000.0\n",
       "2       Prof          A  23.0       20  Male  110515.0\n",
       "3       Prof          A  40.0       31  Male  131205.0\n",
       "4       Prof          B  20.0       18  Male  104800.0\n",
       "5       Prof          A  20.0       20  Male  122400.0\n",
       "6  AssocProf          A  20.0       17  Male   81285.0\n",
       "7       Prof          A  18.0       18  Male       NaN\n",
       "8       Prof          A  29.0       19  Male   94350.0\n",
       "9       Prof          A  51.0       51  Male   57800.0"
      ]
     },
     "execution_count": 16,
     "metadata": {},
     "output_type": "execute_result"
    }
   ],
   "source": [
    "df.head(10)"
   ]
  },
  {
   "cell_type": "code",
   "execution_count": 17,
   "id": "e0dd2958",
   "metadata": {},
   "outputs": [
    {
     "data": {
      "text/html": [
       "<div>\n",
       "<style scoped>\n",
       "    .dataframe tbody tr th:only-of-type {\n",
       "        vertical-align: middle;\n",
       "    }\n",
       "\n",
       "    .dataframe tbody tr th {\n",
       "        vertical-align: top;\n",
       "    }\n",
       "\n",
       "    .dataframe thead th {\n",
       "        text-align: right;\n",
       "    }\n",
       "</style>\n",
       "<table border=\"1\" class=\"dataframe\">\n",
       "  <thead>\n",
       "    <tr style=\"text-align: right;\">\n",
       "      <th></th>\n",
       "      <th>RANK</th>\n",
       "      <th>DISCIPLINE</th>\n",
       "      <th>PHd</th>\n",
       "      <th>SERVICE</th>\n",
       "      <th>SEX</th>\n",
       "      <th>SALARY</th>\n",
       "    </tr>\n",
       "  </thead>\n",
       "  <tbody>\n",
       "    <tr>\n",
       "      <th>73</th>\n",
       "      <td>Prof</td>\n",
       "      <td>B</td>\n",
       "      <td>18.0</td>\n",
       "      <td>10</td>\n",
       "      <td>Female</td>\n",
       "      <td>105450.0</td>\n",
       "    </tr>\n",
       "    <tr>\n",
       "      <th>74</th>\n",
       "      <td>AssocProf</td>\n",
       "      <td>B</td>\n",
       "      <td>19.0</td>\n",
       "      <td>6</td>\n",
       "      <td>Female</td>\n",
       "      <td>104542.0</td>\n",
       "    </tr>\n",
       "    <tr>\n",
       "      <th>75</th>\n",
       "      <td>Prof</td>\n",
       "      <td>B</td>\n",
       "      <td>17.0</td>\n",
       "      <td>17</td>\n",
       "      <td>Female</td>\n",
       "      <td>124312.0</td>\n",
       "    </tr>\n",
       "    <tr>\n",
       "      <th>76</th>\n",
       "      <td>Prof</td>\n",
       "      <td>A</td>\n",
       "      <td>28.0</td>\n",
       "      <td>14</td>\n",
       "      <td>Female</td>\n",
       "      <td>109954.0</td>\n",
       "    </tr>\n",
       "    <tr>\n",
       "      <th>77</th>\n",
       "      <td>Prof</td>\n",
       "      <td>A</td>\n",
       "      <td>23.0</td>\n",
       "      <td>15</td>\n",
       "      <td>Female</td>\n",
       "      <td>109646.0</td>\n",
       "    </tr>\n",
       "  </tbody>\n",
       "</table>\n",
       "</div>"
      ],
      "text/plain": [
       "         RANK DISCIPLINE   PHd  SERVICE     SEX    SALARY\n",
       "73       Prof          B  18.0       10  Female  105450.0\n",
       "74  AssocProf          B  19.0        6  Female  104542.0\n",
       "75       Prof          B  17.0       17  Female  124312.0\n",
       "76       Prof          A  28.0       14  Female  109954.0\n",
       "77       Prof          A  23.0       15  Female  109646.0"
      ]
     },
     "execution_count": 17,
     "metadata": {},
     "output_type": "execute_result"
    }
   ],
   "source": [
    "df.tail() #To show bottom 5 values/rows/tuples in table format."
   ]
  },
  {
   "cell_type": "code",
   "execution_count": 18,
   "id": "62d8c919",
   "metadata": {},
   "outputs": [
    {
     "data": {
      "text/html": [
       "<div>\n",
       "<style scoped>\n",
       "    .dataframe tbody tr th:only-of-type {\n",
       "        vertical-align: middle;\n",
       "    }\n",
       "\n",
       "    .dataframe tbody tr th {\n",
       "        vertical-align: top;\n",
       "    }\n",
       "\n",
       "    .dataframe thead th {\n",
       "        text-align: right;\n",
       "    }\n",
       "</style>\n",
       "<table border=\"1\" class=\"dataframe\">\n",
       "  <thead>\n",
       "    <tr style=\"text-align: right;\">\n",
       "      <th></th>\n",
       "      <th>RANK</th>\n",
       "      <th>DISCIPLINE</th>\n",
       "      <th>PHd</th>\n",
       "      <th>SERVICE</th>\n",
       "      <th>SEX</th>\n",
       "      <th>SALARY</th>\n",
       "    </tr>\n",
       "  </thead>\n",
       "  <tbody>\n",
       "    <tr>\n",
       "      <th>68</th>\n",
       "      <td>AsstProf</td>\n",
       "      <td>A</td>\n",
       "      <td>4.0</td>\n",
       "      <td>2</td>\n",
       "      <td>Female</td>\n",
       "      <td>77500.0</td>\n",
       "    </tr>\n",
       "    <tr>\n",
       "      <th>69</th>\n",
       "      <td>Prof</td>\n",
       "      <td>A</td>\n",
       "      <td>28.0</td>\n",
       "      <td>7</td>\n",
       "      <td>Female</td>\n",
       "      <td>116450.0</td>\n",
       "    </tr>\n",
       "    <tr>\n",
       "      <th>70</th>\n",
       "      <td>AsstProf</td>\n",
       "      <td>A</td>\n",
       "      <td>8.0</td>\n",
       "      <td>3</td>\n",
       "      <td>Female</td>\n",
       "      <td>78500.0</td>\n",
       "    </tr>\n",
       "    <tr>\n",
       "      <th>71</th>\n",
       "      <td>AssocProf</td>\n",
       "      <td>B</td>\n",
       "      <td>12.0</td>\n",
       "      <td>9</td>\n",
       "      <td>Female</td>\n",
       "      <td>71065.0</td>\n",
       "    </tr>\n",
       "    <tr>\n",
       "      <th>72</th>\n",
       "      <td>Prof</td>\n",
       "      <td>B</td>\n",
       "      <td>24.0</td>\n",
       "      <td>15</td>\n",
       "      <td>Female</td>\n",
       "      <td>161101.0</td>\n",
       "    </tr>\n",
       "    <tr>\n",
       "      <th>73</th>\n",
       "      <td>Prof</td>\n",
       "      <td>B</td>\n",
       "      <td>18.0</td>\n",
       "      <td>10</td>\n",
       "      <td>Female</td>\n",
       "      <td>105450.0</td>\n",
       "    </tr>\n",
       "    <tr>\n",
       "      <th>74</th>\n",
       "      <td>AssocProf</td>\n",
       "      <td>B</td>\n",
       "      <td>19.0</td>\n",
       "      <td>6</td>\n",
       "      <td>Female</td>\n",
       "      <td>104542.0</td>\n",
       "    </tr>\n",
       "    <tr>\n",
       "      <th>75</th>\n",
       "      <td>Prof</td>\n",
       "      <td>B</td>\n",
       "      <td>17.0</td>\n",
       "      <td>17</td>\n",
       "      <td>Female</td>\n",
       "      <td>124312.0</td>\n",
       "    </tr>\n",
       "    <tr>\n",
       "      <th>76</th>\n",
       "      <td>Prof</td>\n",
       "      <td>A</td>\n",
       "      <td>28.0</td>\n",
       "      <td>14</td>\n",
       "      <td>Female</td>\n",
       "      <td>109954.0</td>\n",
       "    </tr>\n",
       "    <tr>\n",
       "      <th>77</th>\n",
       "      <td>Prof</td>\n",
       "      <td>A</td>\n",
       "      <td>23.0</td>\n",
       "      <td>15</td>\n",
       "      <td>Female</td>\n",
       "      <td>109646.0</td>\n",
       "    </tr>\n",
       "  </tbody>\n",
       "</table>\n",
       "</div>"
      ],
      "text/plain": [
       "         RANK DISCIPLINE   PHd  SERVICE     SEX    SALARY\n",
       "68   AsstProf          A   4.0        2  Female   77500.0\n",
       "69       Prof          A  28.0        7  Female  116450.0\n",
       "70   AsstProf          A   8.0        3  Female   78500.0\n",
       "71  AssocProf          B  12.0        9  Female   71065.0\n",
       "72       Prof          B  24.0       15  Female  161101.0\n",
       "73       Prof          B  18.0       10  Female  105450.0\n",
       "74  AssocProf          B  19.0        6  Female  104542.0\n",
       "75       Prof          B  17.0       17  Female  124312.0\n",
       "76       Prof          A  28.0       14  Female  109954.0\n",
       "77       Prof          A  23.0       15  Female  109646.0"
      ]
     },
     "execution_count": 18,
     "metadata": {},
     "output_type": "execute_result"
    }
   ],
   "source": [
    "df.tail(10)"
   ]
  },
  {
   "cell_type": "code",
   "execution_count": 19,
   "id": "dd4227fa",
   "metadata": {
    "scrolled": true
   },
   "outputs": [
    {
     "data": {
      "text/html": [
       "<div>\n",
       "<style scoped>\n",
       "    .dataframe tbody tr th:only-of-type {\n",
       "        vertical-align: middle;\n",
       "    }\n",
       "\n",
       "    .dataframe tbody tr th {\n",
       "        vertical-align: top;\n",
       "    }\n",
       "\n",
       "    .dataframe thead th {\n",
       "        text-align: right;\n",
       "    }\n",
       "</style>\n",
       "<table border=\"1\" class=\"dataframe\">\n",
       "  <thead>\n",
       "    <tr style=\"text-align: right;\">\n",
       "      <th></th>\n",
       "      <th>RANK</th>\n",
       "      <th>DISCIPLINE</th>\n",
       "      <th>PHd</th>\n",
       "      <th>SERVICE</th>\n",
       "      <th>SEX</th>\n",
       "      <th>SALARY</th>\n",
       "    </tr>\n",
       "  </thead>\n",
       "  <tbody>\n",
       "    <tr>\n",
       "      <th>1</th>\n",
       "      <td>Prof</td>\n",
       "      <td>A</td>\n",
       "      <td>12.0</td>\n",
       "      <td>6</td>\n",
       "      <td>Male</td>\n",
       "      <td>93000.0</td>\n",
       "    </tr>\n",
       "    <tr>\n",
       "      <th>62</th>\n",
       "      <td>AssocProf</td>\n",
       "      <td>B</td>\n",
       "      <td>14.0</td>\n",
       "      <td>7</td>\n",
       "      <td>Female</td>\n",
       "      <td>109650.0</td>\n",
       "    </tr>\n",
       "    <tr>\n",
       "      <th>69</th>\n",
       "      <td>Prof</td>\n",
       "      <td>A</td>\n",
       "      <td>28.0</td>\n",
       "      <td>7</td>\n",
       "      <td>Female</td>\n",
       "      <td>116450.0</td>\n",
       "    </tr>\n",
       "    <tr>\n",
       "      <th>3</th>\n",
       "      <td>Prof</td>\n",
       "      <td>A</td>\n",
       "      <td>40.0</td>\n",
       "      <td>31</td>\n",
       "      <td>Male</td>\n",
       "      <td>131205.0</td>\n",
       "    </tr>\n",
       "  </tbody>\n",
       "</table>\n",
       "</div>"
      ],
      "text/plain": [
       "         RANK DISCIPLINE   PHd  SERVICE     SEX    SALARY\n",
       "1        Prof          A  12.0        6    Male   93000.0\n",
       "62  AssocProf          B  14.0        7  Female  109650.0\n",
       "69       Prof          A  28.0        7  Female  116450.0\n",
       "3        Prof          A  40.0       31    Male  131205.0"
      ]
     },
     "execution_count": 19,
     "metadata": {},
     "output_type": "execute_result"
    }
   ],
   "source": [
    "df.sample(4) #To show random (row every time changes)"
   ]
  },
  {
   "cell_type": "code",
   "execution_count": 20,
   "id": "6bf44b4c",
   "metadata": {},
   "outputs": [
    {
     "data": {
      "text/plain": [
       "0          Prof\n",
       "1          Prof\n",
       "2          Prof\n",
       "3          Prof\n",
       "4          Prof\n",
       "        ...    \n",
       "73         Prof\n",
       "74    AssocProf\n",
       "75         Prof\n",
       "76         Prof\n",
       "77         Prof\n",
       "Name: RANK, Length: 78, dtype: object"
      ]
     },
     "execution_count": 20,
     "metadata": {},
     "output_type": "execute_result"
    }
   ],
   "source": [
    "df.RANK #To display particular column only."
   ]
  },
  {
   "cell_type": "code",
   "execution_count": 21,
   "id": "8d7c1d86",
   "metadata": {},
   "outputs": [
    {
     "data": {
      "text/html": [
       "<div>\n",
       "<style scoped>\n",
       "    .dataframe tbody tr th:only-of-type {\n",
       "        vertical-align: middle;\n",
       "    }\n",
       "\n",
       "    .dataframe tbody tr th {\n",
       "        vertical-align: top;\n",
       "    }\n",
       "\n",
       "    .dataframe thead th {\n",
       "        text-align: right;\n",
       "    }\n",
       "</style>\n",
       "<table border=\"1\" class=\"dataframe\">\n",
       "  <thead>\n",
       "    <tr style=\"text-align: right;\">\n",
       "      <th></th>\n",
       "      <th>RANK</th>\n",
       "      <th>SEX</th>\n",
       "    </tr>\n",
       "  </thead>\n",
       "  <tbody>\n",
       "    <tr>\n",
       "      <th>0</th>\n",
       "      <td>Prof</td>\n",
       "      <td>Male</td>\n",
       "    </tr>\n",
       "    <tr>\n",
       "      <th>1</th>\n",
       "      <td>Prof</td>\n",
       "      <td>Male</td>\n",
       "    </tr>\n",
       "    <tr>\n",
       "      <th>2</th>\n",
       "      <td>Prof</td>\n",
       "      <td>Male</td>\n",
       "    </tr>\n",
       "    <tr>\n",
       "      <th>3</th>\n",
       "      <td>Prof</td>\n",
       "      <td>Male</td>\n",
       "    </tr>\n",
       "    <tr>\n",
       "      <th>4</th>\n",
       "      <td>Prof</td>\n",
       "      <td>Male</td>\n",
       "    </tr>\n",
       "    <tr>\n",
       "      <th>...</th>\n",
       "      <td>...</td>\n",
       "      <td>...</td>\n",
       "    </tr>\n",
       "    <tr>\n",
       "      <th>73</th>\n",
       "      <td>Prof</td>\n",
       "      <td>Female</td>\n",
       "    </tr>\n",
       "    <tr>\n",
       "      <th>74</th>\n",
       "      <td>AssocProf</td>\n",
       "      <td>Female</td>\n",
       "    </tr>\n",
       "    <tr>\n",
       "      <th>75</th>\n",
       "      <td>Prof</td>\n",
       "      <td>Female</td>\n",
       "    </tr>\n",
       "    <tr>\n",
       "      <th>76</th>\n",
       "      <td>Prof</td>\n",
       "      <td>Female</td>\n",
       "    </tr>\n",
       "    <tr>\n",
       "      <th>77</th>\n",
       "      <td>Prof</td>\n",
       "      <td>Female</td>\n",
       "    </tr>\n",
       "  </tbody>\n",
       "</table>\n",
       "<p>78 rows × 2 columns</p>\n",
       "</div>"
      ],
      "text/plain": [
       "         RANK     SEX\n",
       "0        Prof    Male\n",
       "1        Prof    Male\n",
       "2        Prof    Male\n",
       "3        Prof    Male\n",
       "4        Prof    Male\n",
       "..        ...     ...\n",
       "73       Prof  Female\n",
       "74  AssocProf  Female\n",
       "75       Prof  Female\n",
       "76       Prof  Female\n",
       "77       Prof  Female\n",
       "\n",
       "[78 rows x 2 columns]"
      ]
     },
     "execution_count": 21,
     "metadata": {},
     "output_type": "execute_result"
    }
   ],
   "source": [
    "df[['RANK','SEX']] #To display particular column only.(maybe more than 1 columns)"
   ]
  },
  {
   "cell_type": "code",
   "execution_count": 22,
   "id": "0822d187",
   "metadata": {},
   "outputs": [
    {
     "data": {
      "text/plain": [
       "array(['Prof', 'AssocProf', 'AsstProf'], dtype=object)"
      ]
     },
     "execution_count": 22,
     "metadata": {},
     "output_type": "execute_result"
    }
   ],
   "source": [
    "df['RANK'].unique() #To show unique data-values of particular columns/attributes\n"
   ]
  },
  {
   "cell_type": "code",
   "execution_count": 23,
   "id": "78ca6d1f",
   "metadata": {},
   "outputs": [
    {
     "data": {
      "text/plain": [
       "array(['Male', 'Female'], dtype=object)"
      ]
     },
     "execution_count": 23,
     "metadata": {},
     "output_type": "execute_result"
    }
   ],
   "source": [
    "df['SEX'].unique()"
   ]
  },
  {
   "cell_type": "code",
   "execution_count": 24,
   "id": "7129d1cd",
   "metadata": {
    "scrolled": true
   },
   "outputs": [
    {
     "data": {
      "text/plain": [
       "RANK\n",
       "Prof         46\n",
       "AsstProf     19\n",
       "AssocProf    13\n",
       "Name: count, dtype: int64"
      ]
     },
     "execution_count": 24,
     "metadata": {},
     "output_type": "execute_result"
    }
   ],
   "source": [
    "df['RANK'].value_counts() #To show count  no. of unique data-values of particular columns/attributes."
   ]
  },
  {
   "cell_type": "code",
   "execution_count": 25,
   "id": "f137a939",
   "metadata": {},
   "outputs": [
    {
     "data": {
      "text/plain": [
       "SEX\n",
       "Male      39\n",
       "Female    39\n",
       "Name: count, dtype: int64"
      ]
     },
     "execution_count": 25,
     "metadata": {},
     "output_type": "execute_result"
    }
   ],
   "source": [
    "df['SEX'].value_counts()"
   ]
  },
  {
   "cell_type": "code",
   "execution_count": 26,
   "id": "d6f10c59",
   "metadata": {},
   "outputs": [
    {
     "data": {
      "text/plain": [
       "SEX\n",
       "Male      0.5\n",
       "Female    0.5\n",
       "Name: proportion, dtype: float64"
      ]
     },
     "execution_count": 26,
     "metadata": {},
     "output_type": "execute_result"
    }
   ],
   "source": [
    "df['SEX'].value_counts(normalize=True) #To show in PERCENTAGE (%)"
   ]
  },
  {
   "cell_type": "code",
   "execution_count": 27,
   "id": "ed1a0073",
   "metadata": {},
   "outputs": [
    {
     "data": {
      "text/plain": [
       "186960.0"
      ]
     },
     "execution_count": 27,
     "metadata": {},
     "output_type": "execute_result"
    }
   ],
   "source": [
    "df['SALARY'].max() #To show in MAX"
   ]
  },
  {
   "cell_type": "code",
   "execution_count": 28,
   "id": "6da97227",
   "metadata": {},
   "outputs": [
    {
     "data": {
      "text/plain": [
       "57800.0"
      ]
     },
     "execution_count": 28,
     "metadata": {},
     "output_type": "execute_result"
    }
   ],
   "source": [
    "df['SALARY'].min() #To show in MIN"
   ]
  },
  {
   "cell_type": "code",
   "execution_count": 29,
   "id": "e63b152d",
   "metadata": {
    "scrolled": true
   },
   "outputs": [
    {
     "data": {
      "text/plain": [
       "108003.3552631579"
      ]
     },
     "execution_count": 29,
     "metadata": {},
     "output_type": "execute_result"
    }
   ],
   "source": [
    "df['SALARY'].mean() #To show in AVG "
   ]
  },
  {
   "cell_type": "code",
   "execution_count": 30,
   "id": "3decf2f8",
   "metadata": {},
   "outputs": [
    {
     "data": {
      "text/plain": [
       "0      True\n",
       "1     False\n",
       "2      True\n",
       "3      True\n",
       "4      True\n",
       "      ...  \n",
       "73     True\n",
       "74     True\n",
       "75     True\n",
       "76     True\n",
       "77     True\n",
       "Name: SALARY, Length: 78, dtype: bool"
      ]
     },
     "execution_count": 30,
     "metadata": {},
     "output_type": "execute_result"
    }
   ],
   "source": [
    "df['SALARY']>100000 #To show only salary with condition"
   ]
  },
  {
   "cell_type": "code",
   "execution_count": 31,
   "id": "3d89111a",
   "metadata": {},
   "outputs": [
    {
     "data": {
      "text/html": [
       "<div>\n",
       "<style scoped>\n",
       "    .dataframe tbody tr th:only-of-type {\n",
       "        vertical-align: middle;\n",
       "    }\n",
       "\n",
       "    .dataframe tbody tr th {\n",
       "        vertical-align: top;\n",
       "    }\n",
       "\n",
       "    .dataframe thead th {\n",
       "        text-align: right;\n",
       "    }\n",
       "</style>\n",
       "<table border=\"1\" class=\"dataframe\">\n",
       "  <thead>\n",
       "    <tr style=\"text-align: right;\">\n",
       "      <th></th>\n",
       "      <th>RANK</th>\n",
       "      <th>DISCIPLINE</th>\n",
       "      <th>PHd</th>\n",
       "      <th>SERVICE</th>\n",
       "      <th>SEX</th>\n",
       "      <th>SALARY</th>\n",
       "    </tr>\n",
       "  </thead>\n",
       "  <tbody>\n",
       "    <tr>\n",
       "      <th>0</th>\n",
       "      <td>Prof</td>\n",
       "      <td>B</td>\n",
       "      <td>56.0</td>\n",
       "      <td>49</td>\n",
       "      <td>Male</td>\n",
       "      <td>186960.0</td>\n",
       "    </tr>\n",
       "    <tr>\n",
       "      <th>3</th>\n",
       "      <td>Prof</td>\n",
       "      <td>A</td>\n",
       "      <td>40.0</td>\n",
       "      <td>31</td>\n",
       "      <td>Male</td>\n",
       "      <td>131205.0</td>\n",
       "    </tr>\n",
       "    <tr>\n",
       "      <th>11</th>\n",
       "      <td>Prof</td>\n",
       "      <td>B</td>\n",
       "      <td>23.0</td>\n",
       "      <td>23</td>\n",
       "      <td>Male</td>\n",
       "      <td>134778.0</td>\n",
       "    </tr>\n",
       "    <tr>\n",
       "      <th>13</th>\n",
       "      <td>Prof</td>\n",
       "      <td>B</td>\n",
       "      <td>NaN</td>\n",
       "      <td>33</td>\n",
       "      <td>Male</td>\n",
       "      <td>162200.0</td>\n",
       "    </tr>\n",
       "    <tr>\n",
       "      <th>14</th>\n",
       "      <td>Prof</td>\n",
       "      <td>B</td>\n",
       "      <td>25.0</td>\n",
       "      <td>19</td>\n",
       "      <td>Male</td>\n",
       "      <td>153750.0</td>\n",
       "    </tr>\n",
       "    <tr>\n",
       "      <th>15</th>\n",
       "      <td>Prof</td>\n",
       "      <td>B</td>\n",
       "      <td>17.0</td>\n",
       "      <td>3</td>\n",
       "      <td>Male</td>\n",
       "      <td>150480.0</td>\n",
       "    </tr>\n",
       "    <tr>\n",
       "      <th>19</th>\n",
       "      <td>Prof</td>\n",
       "      <td>A</td>\n",
       "      <td>29.0</td>\n",
       "      <td>27</td>\n",
       "      <td>Male</td>\n",
       "      <td>150500.0</td>\n",
       "    </tr>\n",
       "    <tr>\n",
       "      <th>26</th>\n",
       "      <td>Prof</td>\n",
       "      <td>A</td>\n",
       "      <td>38.0</td>\n",
       "      <td>19</td>\n",
       "      <td>Male</td>\n",
       "      <td>148750.0</td>\n",
       "    </tr>\n",
       "    <tr>\n",
       "      <th>27</th>\n",
       "      <td>Prof</td>\n",
       "      <td>A</td>\n",
       "      <td>45.0</td>\n",
       "      <td>43</td>\n",
       "      <td>Male</td>\n",
       "      <td>155865.0</td>\n",
       "    </tr>\n",
       "    <tr>\n",
       "      <th>31</th>\n",
       "      <td>Prof</td>\n",
       "      <td>B</td>\n",
       "      <td>22.0</td>\n",
       "      <td>21</td>\n",
       "      <td>Male</td>\n",
       "      <td>155750.0</td>\n",
       "    </tr>\n",
       "    <tr>\n",
       "      <th>36</th>\n",
       "      <td>Prof</td>\n",
       "      <td>B</td>\n",
       "      <td>45.0</td>\n",
       "      <td>45</td>\n",
       "      <td>Male</td>\n",
       "      <td>146856.0</td>\n",
       "    </tr>\n",
       "    <tr>\n",
       "      <th>40</th>\n",
       "      <td>Prof</td>\n",
       "      <td>A</td>\n",
       "      <td>39.0</td>\n",
       "      <td>36</td>\n",
       "      <td>Female</td>\n",
       "      <td>137000.0</td>\n",
       "    </tr>\n",
       "    <tr>\n",
       "      <th>44</th>\n",
       "      <td>Prof</td>\n",
       "      <td>B</td>\n",
       "      <td>23.0</td>\n",
       "      <td>19</td>\n",
       "      <td>Female</td>\n",
       "      <td>151768.0</td>\n",
       "    </tr>\n",
       "    <tr>\n",
       "      <th>45</th>\n",
       "      <td>Prof</td>\n",
       "      <td>B</td>\n",
       "      <td>25.0</td>\n",
       "      <td>25</td>\n",
       "      <td>Female</td>\n",
       "      <td>140096.0</td>\n",
       "    </tr>\n",
       "    <tr>\n",
       "      <th>58</th>\n",
       "      <td>Prof</td>\n",
       "      <td>B</td>\n",
       "      <td>36.0</td>\n",
       "      <td>26</td>\n",
       "      <td>Female</td>\n",
       "      <td>144651.0</td>\n",
       "    </tr>\n",
       "    <tr>\n",
       "      <th>72</th>\n",
       "      <td>Prof</td>\n",
       "      <td>B</td>\n",
       "      <td>24.0</td>\n",
       "      <td>15</td>\n",
       "      <td>Female</td>\n",
       "      <td>161101.0</td>\n",
       "    </tr>\n",
       "  </tbody>\n",
       "</table>\n",
       "</div>"
      ],
      "text/plain": [
       "    RANK DISCIPLINE   PHd  SERVICE     SEX    SALARY\n",
       "0   Prof          B  56.0       49    Male  186960.0\n",
       "3   Prof          A  40.0       31    Male  131205.0\n",
       "11  Prof          B  23.0       23    Male  134778.0\n",
       "13  Prof          B   NaN       33    Male  162200.0\n",
       "14  Prof          B  25.0       19    Male  153750.0\n",
       "15  Prof          B  17.0        3    Male  150480.0\n",
       "19  Prof          A  29.0       27    Male  150500.0\n",
       "26  Prof          A  38.0       19    Male  148750.0\n",
       "27  Prof          A  45.0       43    Male  155865.0\n",
       "31  Prof          B  22.0       21    Male  155750.0\n",
       "36  Prof          B  45.0       45    Male  146856.0\n",
       "40  Prof          A  39.0       36  Female  137000.0\n",
       "44  Prof          B  23.0       19  Female  151768.0\n",
       "45  Prof          B  25.0       25  Female  140096.0\n",
       "58  Prof          B  36.0       26  Female  144651.0\n",
       "72  Prof          B  24.0       15  Female  161101.0"
      ]
     },
     "execution_count": 31,
     "metadata": {},
     "output_type": "execute_result"
    }
   ],
   "source": [
    "df[df['SALARY']>130000] #To show only whole data set columns with condition"
   ]
  },
  {
   "cell_type": "code",
   "execution_count": 32,
   "id": "e7d69643",
   "metadata": {},
   "outputs": [
    {
     "data": {
      "text/html": [
       "<div>\n",
       "<style scoped>\n",
       "    .dataframe tbody tr th:only-of-type {\n",
       "        vertical-align: middle;\n",
       "    }\n",
       "\n",
       "    .dataframe tbody tr th {\n",
       "        vertical-align: top;\n",
       "    }\n",
       "\n",
       "    .dataframe thead th {\n",
       "        text-align: right;\n",
       "    }\n",
       "</style>\n",
       "<table border=\"1\" class=\"dataframe\">\n",
       "  <thead>\n",
       "    <tr style=\"text-align: right;\">\n",
       "      <th></th>\n",
       "      <th>RANK</th>\n",
       "      <th>DISCIPLINE</th>\n",
       "      <th>PHd</th>\n",
       "      <th>SERVICE</th>\n",
       "      <th>SEX</th>\n",
       "      <th>SALARY</th>\n",
       "    </tr>\n",
       "  </thead>\n",
       "  <tbody>\n",
       "    <tr>\n",
       "      <th>0</th>\n",
       "      <td>Prof</td>\n",
       "      <td>B</td>\n",
       "      <td>56.0</td>\n",
       "      <td>49</td>\n",
       "      <td>Male</td>\n",
       "      <td>186960.0</td>\n",
       "    </tr>\n",
       "    <tr>\n",
       "      <th>3</th>\n",
       "      <td>Prof</td>\n",
       "      <td>A</td>\n",
       "      <td>40.0</td>\n",
       "      <td>31</td>\n",
       "      <td>Male</td>\n",
       "      <td>131205.0</td>\n",
       "    </tr>\n",
       "    <tr>\n",
       "      <th>11</th>\n",
       "      <td>Prof</td>\n",
       "      <td>B</td>\n",
       "      <td>23.0</td>\n",
       "      <td>23</td>\n",
       "      <td>Male</td>\n",
       "      <td>134778.0</td>\n",
       "    </tr>\n",
       "    <tr>\n",
       "      <th>13</th>\n",
       "      <td>Prof</td>\n",
       "      <td>B</td>\n",
       "      <td>NaN</td>\n",
       "      <td>33</td>\n",
       "      <td>Male</td>\n",
       "      <td>162200.0</td>\n",
       "    </tr>\n",
       "    <tr>\n",
       "      <th>14</th>\n",
       "      <td>Prof</td>\n",
       "      <td>B</td>\n",
       "      <td>25.0</td>\n",
       "      <td>19</td>\n",
       "      <td>Male</td>\n",
       "      <td>153750.0</td>\n",
       "    </tr>\n",
       "    <tr>\n",
       "      <th>15</th>\n",
       "      <td>Prof</td>\n",
       "      <td>B</td>\n",
       "      <td>17.0</td>\n",
       "      <td>3</td>\n",
       "      <td>Male</td>\n",
       "      <td>150480.0</td>\n",
       "    </tr>\n",
       "    <tr>\n",
       "      <th>19</th>\n",
       "      <td>Prof</td>\n",
       "      <td>A</td>\n",
       "      <td>29.0</td>\n",
       "      <td>27</td>\n",
       "      <td>Male</td>\n",
       "      <td>150500.0</td>\n",
       "    </tr>\n",
       "    <tr>\n",
       "      <th>26</th>\n",
       "      <td>Prof</td>\n",
       "      <td>A</td>\n",
       "      <td>38.0</td>\n",
       "      <td>19</td>\n",
       "      <td>Male</td>\n",
       "      <td>148750.0</td>\n",
       "    </tr>\n",
       "    <tr>\n",
       "      <th>27</th>\n",
       "      <td>Prof</td>\n",
       "      <td>A</td>\n",
       "      <td>45.0</td>\n",
       "      <td>43</td>\n",
       "      <td>Male</td>\n",
       "      <td>155865.0</td>\n",
       "    </tr>\n",
       "    <tr>\n",
       "      <th>31</th>\n",
       "      <td>Prof</td>\n",
       "      <td>B</td>\n",
       "      <td>22.0</td>\n",
       "      <td>21</td>\n",
       "      <td>Male</td>\n",
       "      <td>155750.0</td>\n",
       "    </tr>\n",
       "    <tr>\n",
       "      <th>36</th>\n",
       "      <td>Prof</td>\n",
       "      <td>B</td>\n",
       "      <td>45.0</td>\n",
       "      <td>45</td>\n",
       "      <td>Male</td>\n",
       "      <td>146856.0</td>\n",
       "    </tr>\n",
       "  </tbody>\n",
       "</table>\n",
       "</div>"
      ],
      "text/plain": [
       "    RANK DISCIPLINE   PHd  SERVICE   SEX    SALARY\n",
       "0   Prof          B  56.0       49  Male  186960.0\n",
       "3   Prof          A  40.0       31  Male  131205.0\n",
       "11  Prof          B  23.0       23  Male  134778.0\n",
       "13  Prof          B   NaN       33  Male  162200.0\n",
       "14  Prof          B  25.0       19  Male  153750.0\n",
       "15  Prof          B  17.0        3  Male  150480.0\n",
       "19  Prof          A  29.0       27  Male  150500.0\n",
       "26  Prof          A  38.0       19  Male  148750.0\n",
       "27  Prof          A  45.0       43  Male  155865.0\n",
       "31  Prof          B  22.0       21  Male  155750.0\n",
       "36  Prof          B  45.0       45  Male  146856.0"
      ]
     },
     "execution_count": 32,
     "metadata": {},
     "output_type": "execute_result"
    }
   ],
   "source": [
    "df[(df['SALARY']>130000) & (df['SEX']=='Male')] #salary>130k and Male"
   ]
  },
  {
   "cell_type": "code",
   "execution_count": 33,
   "id": "55d47193",
   "metadata": {
    "scrolled": true
   },
   "outputs": [
    {
     "data": {
      "text/html": [
       "<div>\n",
       "<style scoped>\n",
       "    .dataframe tbody tr th:only-of-type {\n",
       "        vertical-align: middle;\n",
       "    }\n",
       "\n",
       "    .dataframe tbody tr th {\n",
       "        vertical-align: top;\n",
       "    }\n",
       "\n",
       "    .dataframe thead th {\n",
       "        text-align: right;\n",
       "    }\n",
       "</style>\n",
       "<table border=\"1\" class=\"dataframe\">\n",
       "  <thead>\n",
       "    <tr style=\"text-align: right;\">\n",
       "      <th></th>\n",
       "      <th>RANK</th>\n",
       "      <th>DISCIPLINE</th>\n",
       "      <th>PHd</th>\n",
       "      <th>SERVICE</th>\n",
       "      <th>SEX</th>\n",
       "      <th>SALARY</th>\n",
       "    </tr>\n",
       "  </thead>\n",
       "  <tbody>\n",
       "    <tr>\n",
       "      <th>0</th>\n",
       "      <td>Prof</td>\n",
       "      <td>B</td>\n",
       "      <td>56.0</td>\n",
       "      <td>49</td>\n",
       "      <td>Male</td>\n",
       "      <td>186960.0</td>\n",
       "    </tr>\n",
       "    <tr>\n",
       "      <th>3</th>\n",
       "      <td>Prof</td>\n",
       "      <td>A</td>\n",
       "      <td>40.0</td>\n",
       "      <td>31</td>\n",
       "      <td>Male</td>\n",
       "      <td>131205.0</td>\n",
       "    </tr>\n",
       "    <tr>\n",
       "      <th>27</th>\n",
       "      <td>Prof</td>\n",
       "      <td>A</td>\n",
       "      <td>45.0</td>\n",
       "      <td>43</td>\n",
       "      <td>Male</td>\n",
       "      <td>155865.0</td>\n",
       "    </tr>\n",
       "    <tr>\n",
       "      <th>36</th>\n",
       "      <td>Prof</td>\n",
       "      <td>B</td>\n",
       "      <td>45.0</td>\n",
       "      <td>45</td>\n",
       "      <td>Male</td>\n",
       "      <td>146856.0</td>\n",
       "    </tr>\n",
       "  </tbody>\n",
       "</table>\n",
       "</div>"
      ],
      "text/plain": [
       "    RANK DISCIPLINE   PHd  SERVICE   SEX    SALARY\n",
       "0   Prof          B  56.0       49  Male  186960.0\n",
       "3   Prof          A  40.0       31  Male  131205.0\n",
       "27  Prof          A  45.0       43  Male  155865.0\n",
       "36  Prof          B  45.0       45  Male  146856.0"
      ]
     },
     "execution_count": 33,
     "metadata": {},
     "output_type": "execute_result"
    }
   ],
   "source": [
    "df[(df['SALARY']>130000) & (df['SEX']=='Male') & (df['PHd']>39.0)] "
   ]
  },
  {
   "cell_type": "code",
   "execution_count": 34,
   "id": "612a179f",
   "metadata": {},
   "outputs": [
    {
     "data": {
      "text/plain": [
       "RANK          False\n",
       "DISCIPLINE    False\n",
       "PHd            True\n",
       "SERVICE       False\n",
       "SEX           False\n",
       "SALARY         True\n",
       "dtype: bool"
      ]
     },
     "execution_count": 34,
     "metadata": {},
     "output_type": "execute_result"
    }
   ],
   "source": [
    " df.isnull().any(axis=0) #To show if there is any NULL value in particular attributes."
   ]
  },
  {
   "cell_type": "code",
   "execution_count": 35,
   "id": "287bee92",
   "metadata": {},
   "outputs": [
    {
     "data": {
      "text/html": [
       "<div>\n",
       "<style scoped>\n",
       "    .dataframe tbody tr th:only-of-type {\n",
       "        vertical-align: middle;\n",
       "    }\n",
       "\n",
       "    .dataframe tbody tr th {\n",
       "        vertical-align: top;\n",
       "    }\n",
       "\n",
       "    .dataframe thead th {\n",
       "        text-align: right;\n",
       "    }\n",
       "</style>\n",
       "<table border=\"1\" class=\"dataframe\">\n",
       "  <thead>\n",
       "    <tr style=\"text-align: right;\">\n",
       "      <th></th>\n",
       "      <th>RANK</th>\n",
       "      <th>DISCIPLINE</th>\n",
       "      <th>PHd</th>\n",
       "      <th>SERVICE</th>\n",
       "      <th>SEX</th>\n",
       "      <th>SALARY</th>\n",
       "    </tr>\n",
       "  </thead>\n",
       "  <tbody>\n",
       "    <tr>\n",
       "      <th>7</th>\n",
       "      <td>Prof</td>\n",
       "      <td>A</td>\n",
       "      <td>18.0</td>\n",
       "      <td>18</td>\n",
       "      <td>Male</td>\n",
       "      <td>NaN</td>\n",
       "    </tr>\n",
       "    <tr>\n",
       "      <th>13</th>\n",
       "      <td>Prof</td>\n",
       "      <td>B</td>\n",
       "      <td>NaN</td>\n",
       "      <td>33</td>\n",
       "      <td>Male</td>\n",
       "      <td>162200.0</td>\n",
       "    </tr>\n",
       "    <tr>\n",
       "      <th>28</th>\n",
       "      <td>AsstProf</td>\n",
       "      <td>B</td>\n",
       "      <td>7.0</td>\n",
       "      <td>2</td>\n",
       "      <td>Male</td>\n",
       "      <td>NaN</td>\n",
       "    </tr>\n",
       "    <tr>\n",
       "      <th>34</th>\n",
       "      <td>AssocProf</td>\n",
       "      <td>B</td>\n",
       "      <td>NaN</td>\n",
       "      <td>8</td>\n",
       "      <td>Male</td>\n",
       "      <td>119800.0</td>\n",
       "    </tr>\n",
       "  </tbody>\n",
       "</table>\n",
       "</div>"
      ],
      "text/plain": [
       "         RANK DISCIPLINE   PHd  SERVICE   SEX    SALARY\n",
       "7        Prof          A  18.0       18  Male       NaN\n",
       "13       Prof          B   NaN       33  Male  162200.0\n",
       "28   AsstProf          B   7.0        2  Male       NaN\n",
       "34  AssocProf          B   NaN        8  Male  119800.0"
      ]
     },
     "execution_count": 35,
     "metadata": {},
     "output_type": "execute_result"
    }
   ],
   "source": [
    " df[df.isnull().any(axis=1)] #To show which particular row have NULL value."
   ]
  },
  {
   "cell_type": "code",
   "execution_count": 36,
   "id": "61b25dc4",
   "metadata": {},
   "outputs": [],
   "source": [
    "# HANDLING MISSINF VALUES (By Removing NULL value containing Rows or By replacing with AVG value)"
   ]
  },
  {
   "cell_type": "code",
   "execution_count": 37,
   "id": "3863f956",
   "metadata": {},
   "outputs": [],
   "source": [
    "# 1.  By replacing with AVG value"
   ]
  },
  {
   "cell_type": "code",
   "execution_count": 38,
   "id": "f5f237a9",
   "metadata": {},
   "outputs": [
    {
     "data": {
      "text/plain": [
       "19.605263157894736"
      ]
     },
     "execution_count": 38,
     "metadata": {},
     "output_type": "execute_result"
    }
   ],
   "source": [
    "df['PHd'].mean()"
   ]
  },
  {
   "cell_type": "code",
   "execution_count": 39,
   "id": "89be5145",
   "metadata": {},
   "outputs": [
    {
     "data": {
      "text/plain": [
       "0     56.0\n",
       "1     12.0\n",
       "2     23.0\n",
       "3     40.0\n",
       "4     20.0\n",
       "      ... \n",
       "73    18.0\n",
       "74    19.0\n",
       "75    17.0\n",
       "76    28.0\n",
       "77    23.0\n",
       "Name: PHd, Length: 78, dtype: float64"
      ]
     },
     "execution_count": 39,
     "metadata": {},
     "output_type": "execute_result"
    }
   ],
   "source": [
    "df['PHd'].fillna(df['PHd'].mean())"
   ]
  },
  {
   "cell_type": "code",
   "execution_count": 40,
   "id": "06f946c2",
   "metadata": {},
   "outputs": [
    {
     "data": {
      "text/html": [
       "<div>\n",
       "<style scoped>\n",
       "    .dataframe tbody tr th:only-of-type {\n",
       "        vertical-align: middle;\n",
       "    }\n",
       "\n",
       "    .dataframe tbody tr th {\n",
       "        vertical-align: top;\n",
       "    }\n",
       "\n",
       "    .dataframe thead th {\n",
       "        text-align: right;\n",
       "    }\n",
       "</style>\n",
       "<table border=\"1\" class=\"dataframe\">\n",
       "  <thead>\n",
       "    <tr style=\"text-align: right;\">\n",
       "      <th></th>\n",
       "      <th>RANK</th>\n",
       "      <th>DISCIPLINE</th>\n",
       "      <th>PHd</th>\n",
       "      <th>SERVICE</th>\n",
       "      <th>SEX</th>\n",
       "      <th>SALARY</th>\n",
       "    </tr>\n",
       "  </thead>\n",
       "  <tbody>\n",
       "    <tr>\n",
       "      <th>7</th>\n",
       "      <td>Prof</td>\n",
       "      <td>A</td>\n",
       "      <td>18.0</td>\n",
       "      <td>18</td>\n",
       "      <td>Male</td>\n",
       "      <td>NaN</td>\n",
       "    </tr>\n",
       "    <tr>\n",
       "      <th>13</th>\n",
       "      <td>Prof</td>\n",
       "      <td>B</td>\n",
       "      <td>NaN</td>\n",
       "      <td>33</td>\n",
       "      <td>Male</td>\n",
       "      <td>162200.0</td>\n",
       "    </tr>\n",
       "    <tr>\n",
       "      <th>28</th>\n",
       "      <td>AsstProf</td>\n",
       "      <td>B</td>\n",
       "      <td>7.0</td>\n",
       "      <td>2</td>\n",
       "      <td>Male</td>\n",
       "      <td>NaN</td>\n",
       "    </tr>\n",
       "    <tr>\n",
       "      <th>34</th>\n",
       "      <td>AssocProf</td>\n",
       "      <td>B</td>\n",
       "      <td>NaN</td>\n",
       "      <td>8</td>\n",
       "      <td>Male</td>\n",
       "      <td>119800.0</td>\n",
       "    </tr>\n",
       "  </tbody>\n",
       "</table>\n",
       "</div>"
      ],
      "text/plain": [
       "         RANK DISCIPLINE   PHd  SERVICE   SEX    SALARY\n",
       "7        Prof          A  18.0       18  Male       NaN\n",
       "13       Prof          B   NaN       33  Male  162200.0\n",
       "28   AsstProf          B   7.0        2  Male       NaN\n",
       "34  AssocProf          B   NaN        8  Male  119800.0"
      ]
     },
     "execution_count": 40,
     "metadata": {},
     "output_type": "execute_result"
    }
   ],
   "source": [
    " df[df.isnull().any(axis=1)] #PHd ko null wala row has been removed"
   ]
  },
  {
   "cell_type": "code",
   "execution_count": 41,
   "id": "e5ff1202",
   "metadata": {},
   "outputs": [
    {
     "name": "stdout",
     "output_type": "stream",
     "text": [
      "    RANK DISCIPLINE  PHd  SERVICE   SEX    SALARY\n",
      "13  Prof          B  NaN       33  Male  162200.0\n"
     ]
    }
   ],
   "source": [
    "print(df.iloc[[13]]) #replaced PHd value with mean of PHd (See in row 13)"
   ]
  },
  {
   "cell_type": "code",
   "execution_count": 42,
   "id": "2946522c",
   "metadata": {},
   "outputs": [],
   "source": [
    "# 1.  By deleting NULL Value rows"
   ]
  },
  {
   "cell_type": "code",
   "execution_count": 43,
   "id": "d2a226ca",
   "metadata": {},
   "outputs": [],
   "source": [
    "df.dropna(inplace=True)"
   ]
  },
  {
   "cell_type": "code",
   "execution_count": 44,
   "id": "5c9ef313",
   "metadata": {},
   "outputs": [
    {
     "data": {
      "text/html": [
       "<div>\n",
       "<style scoped>\n",
       "    .dataframe tbody tr th:only-of-type {\n",
       "        vertical-align: middle;\n",
       "    }\n",
       "\n",
       "    .dataframe tbody tr th {\n",
       "        vertical-align: top;\n",
       "    }\n",
       "\n",
       "    .dataframe thead th {\n",
       "        text-align: right;\n",
       "    }\n",
       "</style>\n",
       "<table border=\"1\" class=\"dataframe\">\n",
       "  <thead>\n",
       "    <tr style=\"text-align: right;\">\n",
       "      <th></th>\n",
       "      <th>RANK</th>\n",
       "      <th>DISCIPLINE</th>\n",
       "      <th>PHd</th>\n",
       "      <th>SERVICE</th>\n",
       "      <th>SEX</th>\n",
       "      <th>SALARY</th>\n",
       "    </tr>\n",
       "  </thead>\n",
       "  <tbody>\n",
       "  </tbody>\n",
       "</table>\n",
       "</div>"
      ],
      "text/plain": [
       "Empty DataFrame\n",
       "Columns: [RANK, DISCIPLINE, PHd, SERVICE, SEX, SALARY]\n",
       "Index: []"
      ]
     },
     "execution_count": 44,
     "metadata": {},
     "output_type": "execute_result"
    }
   ],
   "source": [
    "df[df.isnull().any(axis=1)]"
   ]
  },
  {
   "cell_type": "code",
   "execution_count": 45,
   "id": "3eda8093",
   "metadata": {},
   "outputs": [
    {
     "data": {
      "text/plain": [
       "(74, 6)"
      ]
     },
     "execution_count": 45,
     "metadata": {},
     "output_type": "execute_result"
    }
   ],
   "source": [
    "df.shape #See 2 rows has been removes and total row becomes 76 from 78."
   ]
  },
  {
   "cell_type": "code",
   "execution_count": null,
   "id": "8a5ac25f",
   "metadata": {},
   "outputs": [],
   "source": []
  },
  {
   "cell_type": "code",
   "execution_count": 46,
   "id": "09217321",
   "metadata": {},
   "outputs": [],
   "source": [
    "# HOW TO ADD ROW IN DATA-FRAME."
   ]
  },
  {
   "cell_type": "code",
   "execution_count": 47,
   "id": "8bdb9e44",
   "metadata": {},
   "outputs": [
    {
     "data": {
      "text/html": [
       "<div>\n",
       "<style scoped>\n",
       "    .dataframe tbody tr th:only-of-type {\n",
       "        vertical-align: middle;\n",
       "    }\n",
       "\n",
       "    .dataframe tbody tr th {\n",
       "        vertical-align: top;\n",
       "    }\n",
       "\n",
       "    .dataframe thead th {\n",
       "        text-align: right;\n",
       "    }\n",
       "</style>\n",
       "<table border=\"1\" class=\"dataframe\">\n",
       "  <thead>\n",
       "    <tr style=\"text-align: right;\">\n",
       "      <th></th>\n",
       "      <th>RANK</th>\n",
       "      <th>DISCIPLINE</th>\n",
       "      <th>PHd</th>\n",
       "      <th>SERVICE</th>\n",
       "      <th>SEX</th>\n",
       "      <th>SALARY</th>\n",
       "    </tr>\n",
       "  </thead>\n",
       "  <tbody>\n",
       "    <tr>\n",
       "      <th>0</th>\n",
       "      <td>Prof</td>\n",
       "      <td>B</td>\n",
       "      <td>56.0</td>\n",
       "      <td>49</td>\n",
       "      <td>Male</td>\n",
       "      <td>186960.0</td>\n",
       "    </tr>\n",
       "    <tr>\n",
       "      <th>1</th>\n",
       "      <td>Prof</td>\n",
       "      <td>A</td>\n",
       "      <td>12.0</td>\n",
       "      <td>6</td>\n",
       "      <td>Male</td>\n",
       "      <td>93000.0</td>\n",
       "    </tr>\n",
       "    <tr>\n",
       "      <th>2</th>\n",
       "      <td>Prof</td>\n",
       "      <td>A</td>\n",
       "      <td>23.0</td>\n",
       "      <td>20</td>\n",
       "      <td>Male</td>\n",
       "      <td>110515.0</td>\n",
       "    </tr>\n",
       "    <tr>\n",
       "      <th>3</th>\n",
       "      <td>Prof</td>\n",
       "      <td>A</td>\n",
       "      <td>40.0</td>\n",
       "      <td>31</td>\n",
       "      <td>Male</td>\n",
       "      <td>131205.0</td>\n",
       "    </tr>\n",
       "    <tr>\n",
       "      <th>4</th>\n",
       "      <td>Prof</td>\n",
       "      <td>B</td>\n",
       "      <td>20.0</td>\n",
       "      <td>18</td>\n",
       "      <td>Male</td>\n",
       "      <td>104800.0</td>\n",
       "    </tr>\n",
       "    <tr>\n",
       "      <th>...</th>\n",
       "      <td>...</td>\n",
       "      <td>...</td>\n",
       "      <td>...</td>\n",
       "      <td>...</td>\n",
       "      <td>...</td>\n",
       "      <td>...</td>\n",
       "    </tr>\n",
       "    <tr>\n",
       "      <th>70</th>\n",
       "      <td>AssocProf</td>\n",
       "      <td>B</td>\n",
       "      <td>19.0</td>\n",
       "      <td>6</td>\n",
       "      <td>Female</td>\n",
       "      <td>104542.0</td>\n",
       "    </tr>\n",
       "    <tr>\n",
       "      <th>71</th>\n",
       "      <td>Prof</td>\n",
       "      <td>B</td>\n",
       "      <td>17.0</td>\n",
       "      <td>17</td>\n",
       "      <td>Female</td>\n",
       "      <td>124312.0</td>\n",
       "    </tr>\n",
       "    <tr>\n",
       "      <th>72</th>\n",
       "      <td>Prof</td>\n",
       "      <td>A</td>\n",
       "      <td>28.0</td>\n",
       "      <td>14</td>\n",
       "      <td>Female</td>\n",
       "      <td>109954.0</td>\n",
       "    </tr>\n",
       "    <tr>\n",
       "      <th>73</th>\n",
       "      <td>Prof</td>\n",
       "      <td>A</td>\n",
       "      <td>23.0</td>\n",
       "      <td>15</td>\n",
       "      <td>Female</td>\n",
       "      <td>109646.0</td>\n",
       "    </tr>\n",
       "    <tr>\n",
       "      <th>74</th>\n",
       "      <td>Prof</td>\n",
       "      <td>B</td>\n",
       "      <td>99.0</td>\n",
       "      <td>77</td>\n",
       "      <td>Male</td>\n",
       "      <td>9999999.0</td>\n",
       "    </tr>\n",
       "  </tbody>\n",
       "</table>\n",
       "<p>75 rows × 6 columns</p>\n",
       "</div>"
      ],
      "text/plain": [
       "         RANK DISCIPLINE   PHd  SERVICE     SEX     SALARY\n",
       "0        Prof          B  56.0       49    Male   186960.0\n",
       "1        Prof          A  12.0        6    Male    93000.0\n",
       "2        Prof          A  23.0       20    Male   110515.0\n",
       "3        Prof          A  40.0       31    Male   131205.0\n",
       "4        Prof          B  20.0       18    Male   104800.0\n",
       "..        ...        ...   ...      ...     ...        ...\n",
       "70  AssocProf          B  19.0        6  Female   104542.0\n",
       "71       Prof          B  17.0       17  Female   124312.0\n",
       "72       Prof          A  28.0       14  Female   109954.0\n",
       "73       Prof          A  23.0       15  Female   109646.0\n",
       "74       Prof          B  99.0       77    Male  9999999.0\n",
       "\n",
       "[75 rows x 6 columns]"
      ]
     },
     "metadata": {},
     "output_type": "display_data"
    }
   ],
   "source": [
    "df2={'RANK':'Prof', 'DISCIPLINE':'B','PHd':99,'SERVICE':77, 'SEX':'Male', 'SALARY':9999999}\n",
    "#df = pd.DataFrame(df).append(df2, ignore_index = True)  #NOT WORKING\n",
    "df = pd.concat([df, pd.DataFrame([df2])], ignore_index=True)\n",
    "display(df)\n"
   ]
  },
  {
   "cell_type": "code",
   "execution_count": 59,
   "id": "53519b26",
   "metadata": {},
   "outputs": [
    {
     "name": "stdout",
     "output_type": "stream",
     "text": [
      "    RANK DISCIPLINE   PHd  SERVICE     SEX     SALARY\n",
      "73  Prof          A  23.0       15  Female   109646.0\n",
      "74  Prof          B  99.0       77    Male  9999999.0\n"
     ]
    }
   ],
   "source": [
    "print(df.iloc[[73,74]])"
   ]
  },
  {
   "cell_type": "code",
   "execution_count": null,
   "id": "2052d866",
   "metadata": {},
   "outputs": [],
   "source": [
    "# HOW TO DELETE COLUMN"
   ]
  },
  {
   "cell_type": "code",
   "execution_count": null,
   "id": "450e7a86",
   "metadata": {
    "scrolled": true
   },
   "outputs": [],
   "source": [
    "# Import pandas package\n",
    "import pandas as pd\n",
    "\n",
    "# create a dictionary with five fields each\n",
    "data = {\n",
    "'A': ['A1', 'A2', 'A3', 'A4', 'A5'],\n",
    "'B': ['B1', 'B2', 'B3', 'B4', 'B5'],\n",
    "'C': ['C1', 'C2', 'C3', 'C4', 'C5'],\n",
    "'D': ['D1', 'D2', 'D3', 'D4', 'D5'],\n",
    "'E': ['E1', 'E2', 'E3', 'E4', 'E5']}\n",
    "\n",
    "print(data)\n"
   ]
  },
  {
   "cell_type": "code",
   "execution_count": null,
   "id": "82aa137e",
   "metadata": {},
   "outputs": [],
   "source": [
    "# Convert the dictionary into DataFrame\n",
    "df = pd.DataFrame(data)\n",
    "\n",
    "# Remove two columns name is 'C' and 'D'\n",
    "df.drop(['C', 'D'], axis=1)\n",
    "\n",
    "# df.drop(columns =['C', 'D'])\n"
   ]
  },
  {
   "cell_type": "code",
   "execution_count": 49,
   "id": "4c4e80b7",
   "metadata": {},
   "outputs": [
    {
     "data": {
      "image/png": "[encoded data removed]",
      "text/plain": [
       "<Figure size 1000x600 with 1 Axes>"
      ]
     },
     "metadata": {},
     "output_type": "display_data"
    }
   ],
   "source": [
    "import matplotlib.pyplot as plt\n",
    "\n",
    "# Calculate average salary by discipline\n",
    "avg_salary_by_discipline = df.groupby('DISCIPLINE')['SALARY'].mean()\n",
    "\n",
    "# Plotting\n",
    "plt.figure(figsize=(10, 6))\n",
    "avg_salary_by_discipline.plot(kind='bar', color='skyblue')\n",
    "plt.title('Average Salary by Discipline')\n",
    "plt.xlabel('Discipline')\n",
    "plt.ylabel('Average Salary ($)')\n",
    "plt.xticks(rotation=45)\n",
    "plt.grid(axis='y', linestyle='--', alpha=0.7)\n",
    "plt.tight_layout()\n",
    "plt.show()\n"
   ]
  },
  {
   "cell_type": "code",
   "execution_count": 50,
   "id": "4d47c9aa",
   "metadata": {},
   "outputs": [
    {
     "data": {
      "image/png": "[encoded data removed]",
      "text/plain": [
       "<Figure size 800x600 with 1 Axes>"
      ]
     },
     "metadata": {},
     "output_type": "display_data"
    }
   ],
   "source": [
    "import matplotlib.pyplot as plt\n",
    "\n",
    "# Find max and min salary\n",
    "max_salary = df['SALARY'].max()\n",
    "min_salary = df['SALARY'].min()\n",
    "\n",
    "# Plotting\n",
    "plt.figure(figsize=(8, 6))\n",
    "plt.scatter(['Max Salary', 'Min Salary'], [max_salary, min_salary], color=['red', 'blue'])\n",
    "plt.title('Max and Min Salary')\n",
    "plt.xlabel('Salary')\n",
    "plt.ylabel('Amount ($)')\n",
    "plt.grid(True)\n",
    "plt.show()\n"
   ]
  },
  {
   "cell_type": "code",
   "execution_count": 51,
   "id": "275e1968",
   "metadata": {},
   "outputs": [
    {
     "data": {
      "image/png": "[encoded data removed]",
      "text/plain": [
       "<Figure size 1000x600 with 1 Axes>"
      ]
     },
     "metadata": {},
     "output_type": "display_data"
    }
   ],
   "source": [
    "import matplotlib.pyplot as plt\n",
    "\n",
    "# Plotting\n",
    "plt.figure(figsize=(10, 6))\n",
    "plt.hist(df['SALARY'], bins=20, color='skyblue', edgecolor='black')\n",
    "plt.title('Salary Distribution')\n",
    "plt.xlabel('Salary')\n",
    "plt.ylabel('Frequency')\n",
    "plt.grid(True)\n",
    "plt.show()\n"
   ]
  },
  {
   "cell_type": "code",
   "execution_count": 52,
   "id": "f7fae15a",
   "metadata": {
    "scrolled": true
   },
   "outputs": [
    {
     "data": {
      "image/png": "[encoded data removed]",
      "text/plain": [
       "<Figure size 1000x600 with 1 Axes>"
      ]
     },
     "metadata": {},
     "output_type": "display_data"
    }
   ],
   "source": [
    "import matplotlib.pyplot as plt\n",
    "\n",
    "# Plotting\n",
    "plt.figure(figsize=(10, 6))\n",
    "plt.boxplot([df[df['RANK'] == 'Prof']['SALARY'], df[df['RANK'] == 'AssocProf']['SALARY'], df[df['RANK'] == 'AsstProf']['SALARY']], \n",
    "            labels=['Prof', 'AssocProf', 'AsstProf'], patch_artist=True)\n",
    "plt.title('Salary Comparison by Rank')\n",
    "plt.xlabel('Rank')\n",
    "plt.ylabel('Salary')\n",
    "plt.grid(True)\n",
    "plt.show()\n"
   ]
  },
  {
   "cell_type": "code",
   "execution_count": 53,
   "id": "47edcbcb",
   "metadata": {},
   "outputs": [
    {
     "data": {
      "text/plain": [
       "<Figure size 1000x600 with 0 Axes>"
      ]
     },
     "metadata": {},
     "output_type": "display_data"
    },
    {
     "data": {
      "image/png": "[encoded data removed]",
      "text/plain": [
       "<Figure size 640x480 with 1 Axes>"
      ]
     },
     "metadata": {},
     "output_type": "display_data"
    }
   ],
   "source": [
    "import matplotlib.pyplot as  plt\n",
    "import seaborn as sns\n",
    "\n",
    "# Group by Discipline and Rank./ \n",
    "avg_salary_by_discipline_rank = df.groupby(['DISCIPLINE', 'RANK'])['SALARY'].mean().unstack()\n",
    "\n",
    "# Plotting\n",
    "plt.figure(figsize=(10, 6))\n",
    "avg_salary_by_discipline_rank.plot(kind='bar', color=['skyblue', 'orange', 'green'], alpha=0.8)\n",
    "plt.title('Salary by Discipline and Rank')\n",
    "plt.xlabel('Discipline')\n",
    "plt.ylabel('Average Salary ($)')\n",
    "plt.xticks(rotation=45)\n",
    "plt.grid(axis='y', linestyle='--', alpha=0.7)\n",
    "plt.legend(title='Rank')\n",
    "plt.tight_layout()\n",
    "plt.show()\n"
   ]
  },
  {
   "cell_type": "code",
   "execution_count": 54,
   "id": "c6a16d99",
   "metadata": {},
   "outputs": [
    {
     "data": {
      "image/png": "[encoded data removed]",
      "text/plain": [
       "<Figure size 1000x600 with 1 Axes>"
      ]
     },
     "metadata": {},
     "output_type": "display_data"
    }
   ],
   "source": [
    "import matplotlib.pyplot as plt\n",
    "\n",
    "# Plotting\n",
    "plt.figure(figsize=(10, 6))\n",
    "plt.scatter(df['PHd'], df['SALARY'], color='skyblue')\n",
    "plt.title('Salary by Years Since PhD Completion')\n",
    "plt.xlabel('Years Since PhD Completion')\n",
    "plt.ylabel('Salary ($)')\n",
    "plt.grid(True)\n",
    "plt.show()\n"
   ]
  },
  {
   "cell_type": "code",
   "execution_count": 55,
   "id": "8847d2dd",
   "metadata": {},
   "outputs": [
    {
     "data": {
      "image/png": "[encoded data removed]",
      "text/plain": [
       "<Figure size 1000x600 with 1 Axes>"
      ]
     },
     "metadata": {},
     "output_type": "display_data"
    }
   ],
   "source": [
    "import matplotlib.pyplot as plt\n",
    "\n",
    "# Plotting\n",
    "plt.figure(figsize=(10, 6))\n",
    "sns.boxplot(x='RANK', y='SALARY', hue='SEX', data=df, palette='Set2')\n",
    "plt.title('Salary Comparison Across Gender and Rank')\n",
    "plt.xlabel('Rank')\n",
    "plt.ylabel('Salary ($)')\n",
    "plt.grid(True)\n",
    "plt.legend(title='Sex', loc='upper left')\n",
    "plt.show()\n"
   ]
  },
  {
   "cell_type": "code",
   "execution_count": 57,
   "id": "eb45b96e",
   "metadata": {},
   "outputs": [
    {
     "data": {
      "image/png": "[encoded data removed]",
      "text/plain": [
       "<Figure size 1000x600 with 1 Axes>"
      ]
     },
     "metadata": {},
     "output_type": "display_data"
    }
   ],
   "source": [
    "import matplotlib.pyplot as plt\n",
    "\n",
    "# Plotting \n",
    "plt.figure(figsize=(10, 6))\n",
    "plt.plot(df['SERVICE'], df['SALARY'], marker='o', linestyle='-')\n",
    "plt.title('Salary by Years of Service')\n",
    "plt.xlabel('Years of Service')\n",
    "plt.ylabel('Salary ($)')\n",
    "plt.grid(True)\n",
    "plt.show()\n"
   ]
  },
  {
   "cell_type": "code",
   "execution_count": null,
   "id": "959fc39b",
   "metadata": {},
   "outputs": [],
   "source": []
  },
  {
   "cell_type": "code",
   "execution_count": null,
   "id": "7adf1e53",
   "metadata": {},
   "outputs": [],
   "source": []
  }
 ],
 "metadata": {
  "kernelspec": {
   "display_name": "Python 3 (ipykernel)",
   "language": "python",
   "name": "python3"
  },
  "language_info": {
   "codemirror_mode": {
    "name": "ipython",
    "version": 3
   },
   "file_extension": ".py",
   "mimetype": "text/x-python",
   "name": "python",
   "nbconvert_exporter": "python",
   "pygments_lexer": "ipython3",
   "version": "3.11.5"
  }
 },
 "nbformat": 4,
 "nbformat_minor": 5
}
